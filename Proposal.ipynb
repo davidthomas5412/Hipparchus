{
 "cells": [
  {
   "cell_type": "markdown",
   "metadata": {},
   "source": [
    "# Proposal\n",
    "*David Thomas and Jason Chou 2017/03/05*<br>\n",
    "<font color=\"grey\">_(updated: 2017/03/07)_</font>"
   ]
  },
  {
   "cell_type": "markdown",
   "metadata": {
    "collapsed": true
   },
   "source": [
    "## <font color=\"blue\">Concept</font>\n",
    "\n",
    "We plan to further explore the cepheid period-luminosity relation that we explored in [homework 4](https://github.com/drphilmarshall/PHYS366-Homework-2017/tree/master/Week4). We plan to model/analyze the galaxy cluster cepheid period-luminosity relation in four different ways:\n",
    "<br><br>\n",
    "<font color=\"purple\">_(name in brackets indicates the person in charge)_</font>\n",
    " \n",
    "- via systematics (is 'blue' cluster just bad data) [david]\n",
    "- incorporating metallicity and other data features [david]\n",
    "- with machine learning [jason]\n",
    "- with assumptions from the homework [jason]\n",
    "\n",
    "Ultimately we plan to <font color=\"magenta\">compare and contrast these models</font> with techniques like evidence ratios and posterior predictions."
   ]
  },
  {
   "cell_type": "markdown",
   "metadata": {},
   "source": [
    "---\n",
    "## <font color=\"blue\">Some More Details</font>\n",
    "Just some brief descriptions about what the logistics and goals are for each item.\n",
    "<br><br>\n",
    "** NOTE: We shall assume no knowledge (nor any means of posing constraints from it) about the physics behind the data set. Namely, we will investigate the data sets in a pure statistical way.**"
   ]
  },
  {
   "cell_type": "markdown",
   "metadata": {},
   "source": [
    "### <font color=\"red\">Systematics</font>\n",
    "In the period-magnitude plot, the galaxy in *blue* (a.k.a. NGC4258) clearly deviates more from the majority of data than the others do. So we wonder whether the *blue* data was somehow contaminated by some systematical flaws in the observation.\n",
    "\n",
    "A possible way of doing this is to throw away some of the galaxies and do the inference; alternatively we may include a new parameter handling the \"systematic error\".\n",
    "<br>\n",
    "<img style=\"width:100%;\" src=\"./PMplot.png\">"
   ]
  },
  {
   "cell_type": "markdown",
   "metadata": {},
   "source": [
    "### <font color=\"red\">Metallicity</font>\n",
    "Based on the paper by Riess _et al._ [(2011)](http://adsabs.harvard.edu/abs/2011ApJ...730..119R), the model can be made more sophisticated by introducing the metallicity:\n",
    "<br><br>\n",
    "$\n",
    "\\;\\;\\;\\;\\Delta\\log[O/H]\n",
    "$\n",
    "<br>\n",
    "Including metallicity in our model would look like, for example, Equation (7) in the paper:\n",
    "<br><br>\n",
    "$\n",
    "\\;\\;\\;\\;M_{W,i,j} = M_{W,1} + b_W\\log P_{i,j} + Z_W \\Delta\\log [O/H]_{i,j}\n",
    "$\n",
    "<br><br>\n",
    "The \"global scatter\" as we did in the howemork may or may not be incorporated."
   ]
  },
  {
   "cell_type": "markdown",
   "metadata": {},
   "source": [
    "### <font color=\"red\">Machine Learning</font>\n",
    "Suppose the P-M relation does not follow a global Gaussian hyper-relation. In other words, what would happen if each galaxy itself has its own, *independent (from each other)* P-M relation? We will pursue this by treating it as a classification problem in supervised machine learning.\n",
    "\n",
    "Since every Cephied belongs to (and only to) its host galaxy, the correct answer to the classification is known. We can randomly select some portion of the data set to train the computer and then evaluate the \"accuracy\" of this classifier by testing it to the remaining portion. Do this multiple times. If the success rate of accurately classifying the \"un-trained\" Cepheids is high, then it is obvious that each galaxy has a distinctive characteristic; and vice versa."
   ]
  },
  {
   "cell_type": "markdown",
   "metadata": {},
   "source": [
    "### <font color=\"red\">Replicating Homework</font>\n",
    "This one is relatively straightforward (and was partly done in the homework). The goal is to check the posteriors obtained in the homework for later comparison. The main task here would be to implement calulations of the evidence, ppp, etc. In light of the complexity of the original approach (which involved 22 parameters), we might adopt Phil's amazing analytic [solution](https://github.com/drphilmarshall/PHYS366-Homework-2017/blob/master/Week4/phil/Problem-UniversalCepheids.ipynb) to save time!"
   ]
  },
  {
   "cell_type": "markdown",
   "metadata": {},
   "source": [
    "---\n",
    "## <font color=\"green\">Some Comments</font>\n",
    "We expect the challenge mainly lies in the model evaluation, as the four of the models have quite different forms. We will need advice on that part for sure."
   ]
  }
 ],
 "metadata": {
  "kernelspec": {
   "display_name": "Python 2",
   "language": "python",
   "name": "python2"
  },
  "language_info": {
   "codemirror_mode": {
    "name": "ipython",
    "version": 2
   },
   "file_extension": ".py",
   "mimetype": "text/x-python",
   "name": "python",
   "nbconvert_exporter": "python",
   "pygments_lexer": "ipython2",
   "version": "2.7.13"
  }
 },
 "nbformat": 4,
 "nbformat_minor": 1
}
