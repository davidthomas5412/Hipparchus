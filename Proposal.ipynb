{
 "cells": [
  {
   "cell_type": "markdown",
   "metadata": {},
   "source": [
    "# Proposal\n",
    "*David Thomas and Jason Chou 2017/03/05*<br>\n",
    "<font color=\"grey\">_(updated: 2017/03/07)_</font>"
   ]
  },
  {
   "cell_type": "markdown",
   "metadata": {
    "collapsed": true
   },
   "source": [
    "## <font color=\"blue\">Concept</font>\n",
    "\n",
    "We plan to further explore the cepheid period-luminosity relation that we explored in [homework 4](https://github.com/drphilmarshall/PHYS366-Homework-2017/tree/master/Week4). We plan to model/analyze the galaxy cluster cepheid period-luminosity relation in four different ways:\n",
    "<br><br>\n",
    "<font color=\"purple\">_(name in brackets indicates the person in charge)_</font>\n",
    " \n",
    "- via systematics (is 'blue' cluster just bad data) [david]\n",
    "- incorporating metallicity and other data features [david]\n",
    "- with machine learning [jason]\n",
    "- with assumptions from the homework [jason]\n",
    "\n",
    "Ultimately we plan to compare and contrast these models with techniques like evidence ratios and posterior predictions."
   ]
  },
  {
   "cell_type": "markdown",
   "metadata": {},
   "source": [
    "## <font color=\"blue\">Some More Details</font>\n",
    "Just some brief descriptions about what the logistics and goals are for each item.\n",
    "<br><br>\n",
    "** NOTE: We shall assume no knowledge (nor any means of posing constraints from it) about the physics behind the data set. Namely, we will investigate the data sets in a pure statistical way.**"
   ]
  },
  {
   "cell_type": "markdown",
   "metadata": {},
   "source": [
    "### <font color=\"red\">Systematics</font>\n",
    "In the period-magnitude plot, the galaxy in *blue* (a.k.a. NGC4258) clearly deviates more from the majority of data than the others do. So we wonder whether the *blue* data was somehow contaminated by some systematical flaws in the observation.\n",
    "\n",
    "A possible way of doing this is to throw away some of the galaxies and do the inference; alternatively we may include a new parameter handling the \"systematic error\".\n",
    "<br>\n",
    "<img style=\"width:100%;\" src=\"./PMplot.png\">"
   ]
  }
 ],
 "metadata": {
  "kernelspec": {
   "display_name": "Python 2",
   "language": "python",
   "name": "python2"
  },
  "language_info": {
   "codemirror_mode": {
    "name": "ipython",
    "version": 2
   },
   "file_extension": ".py",
   "mimetype": "text/x-python",
   "name": "python",
   "nbconvert_exporter": "python",
   "pygments_lexer": "ipython2",
   "version": "2.7.13"
  }
 },
 "nbformat": 4,
 "nbformat_minor": 1
}
