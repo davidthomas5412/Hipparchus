{
 "cells": [
  {
   "cell_type": "markdown",
   "metadata": {},
   "source": [
    "# Proposal\n",
    "*David Thomas and Jason Chuo 2017/03/05*\n",
    "\n",
    "We plan to further explore the cepheid period-luminosity relation that we explored in [homework 4](https://github.com/drphilmarshall/PHYS366-Homework-2017/tree/master/Week4). We plan to model/analyze the galaxy cluster cepheid period-luminosity relation in four different ways:\n",
    " \n",
    "- via systematics (is 'blue' cluster just bad data) [david]\n",
    "- incorporating metallicity and other data features [david]\n",
    "- with machine learning [jason]\n",
    "- with assumptions from the homework [jason]\n",
    "\n",
    "Ultimately we plan to compare and contrast these models with techniques like evidence ratios and posterior predictions."
   ]
  },
  {
   "cell_type": "code",
   "execution_count": null,
   "metadata": {
    "collapsed": true
   },
   "outputs": [],
   "source": []
  }
 ],
 "metadata": {
  "kernelspec": {
   "display_name": "Python 2",
   "language": "python",
   "name": "python2"
  },
  "language_info": {
   "codemirror_mode": {
    "name": "ipython",
    "version": 2
   },
   "file_extension": ".py",
   "mimetype": "text/x-python",
   "name": "python",
   "nbconvert_exporter": "python",
   "pygments_lexer": "ipython2",
   "version": "2.7.13"
  }
 },
 "nbformat": 4,
 "nbformat_minor": 1
}
