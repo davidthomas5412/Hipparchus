{
 "cells": [
  {
   "cell_type": "markdown",
   "metadata": {},
   "source": [
    "# Background\n",
    "\n",
    "Our universe was born in a fiery explosion. Today it is a cold network of dark matter. Much of the transition process between these endpoints is well understood, but the connection between dark matter and galaxy formation is one area that is still wanting. The force behind the condensation of mass on large scales into galaxies is gravition. This typically feeble force, becomes is leveraged by extremely large pools of dark matter, called dark matter halos, into a powerful large scale force that condenses structures in the universe and fuels galaxy formation. In the past decade N-body simulations have provided reliable large scale structure data under various cosmology scenarios. In parallel, large surveys have provided large galaxy datasets. The ultimate goal of our research is to better understand galaxy formation by connecting the dark matter structure from simulations to galaxy luminosities from surveys.\n",
    "\n",
    "We will be attempting to infer the mass luminosity over a large field of view, which is motivated by our eventual desire to incorporate weak lensing information. We have taken a mass luminosity relation from [1] and have created a realistic dataset to validate our inference and resulting posteriors with. For our Physics 366 project we propose exploring this computationally challenging inference through the lens of optimization. Optimization offers the dual benefits of computational efficiency and a faster route to answering certain questions."
   ]
  },
  {
   "cell_type": "markdown",
   "metadata": {},
   "source": [
    "# Model\n",
    "\n",
    "Our model consists of N independent halos that each have a redshift, mass, luminosity, and observed luminosity. Two functional hyperparameters and one observational noise hyperparameter govern the relation between these halo features. The conditional probability relationship between these parameters is captured in the probabilistic graphical model below."
   ]
  },
  {
   "cell_type": "markdown",
   "metadata": {},
   "source": [
    "#### PGM"
   ]
  },
  {
   "cell_type": "code",
   "execution_count": 3,
   "metadata": {
    "collapsed": false
   },
   "outputs": [
    {
     "data": {
      "image/png": "[encoded data removed]",
      "text/plain": [
       "<IPython.core.display.Image object>"
      ]
     },
     "execution_count": 3,
     "metadata": {},
     "output_type": "execute_result"
    }
   ],
   "source": [
    "from IPython.display import Image\n",
    "Image(filename='pgm.png') "
   ]
  },
  {
   "cell_type": "markdown",
   "metadata": {},
   "source": [
    "#### Variables"
   ]
  },
  {
   "cell_type": "markdown",
   "metadata": {},
   "source": [
    "- $\\alpha$: a set of functional parameters that converts mass into mean luminosity. (See below)\n",
    "- $S$: the scatter of the lognormal distribution that converts mean luminosity to intrinsic luminosity. (See below)\n",
    "- $\\sigma_L$: the lognormal scatter between luminosity and observed luminosities.\n",
    "- $z^i$: redshift of the ith halo.\n",
    "- $M^i$: mass of the ith halo.\n",
    "- $L^i$: luminosity of the ith halo.\n",
    "- $L^i_{obs}$: observed luminosity of the ith halo.\n",
    "\n",
    "TODO: add units"
   ]
  },
  {
   "cell_type": "markdown",
   "metadata": {},
   "source": [
    "#### Distributions\n",
    "\n",
    "For the mass prior we use the Tinker (2010) form and use the hmfCalc package to produce this information [3]. \n",
    "\n",
    "$$P(M^i) \\sim \\text{hmfCalc}$$\n",
    "\n",
    "The redshift prior is fixed from the data. The $\\sigma_L$ is fixed at 0.05 which is around the 1% noise level that is a common threshold in astronomy. \n",
    "\n",
    "$$P(z^i) \\sim \\text{Data}$$\n",
    "$$P(\\sigma_L) = \\delta(\\sigma_L - 0.05)$$\n",
    "\n",
    "The $\\alpha$ and $S$ hyperparameter priors are the gaussian distributions suggested by [1].\n",
    "\n",
    "TODO: reproduce exact numerical values here.\n",
    "\n",
    "The conditional intrinsic luminosity has two parts: the mean of the lognormal, and the scatter of the lognormal. This form again comes from [1].\n",
    "\n",
    "$$\\mu_{L^i} = \\exp(\\alpha_1)\\left( \\frac{M^i}{\\alpha_3} \\right)^{\\alpha_2} (1+z^i)^{\\alpha_3}$$\n",
    "$$P(L^i|\\alpha, S, z^i, M^i) = \\text{lognormal}(\\mu_{L^i}, S)$$\n",
    "\n",
    "Finally we have the conditional observed luminosity:\n",
    "\n",
    "$$P(L_{obs}^i|\\sigma_L, L^i) = \\text{lognormal}(L^i, \\sigma_L)$$"
   ]
  },
  {
   "cell_type": "markdown",
   "metadata": {},
   "source": [
    "#### Data"
   ]
  },
  {
   "cell_type": "markdown",
   "metadata": {},
   "source": [
    "Our dataset is generated from a $40 \\times 40\\ \\text{arcmin}^2$ patch of the Millennium Simulation. The four fields right-ascension, declination, redshift, and halo mass come straight from this data. On top of this we generate a random set of $\\alpha, S$ from our prior in order to append an intrinsic and observed luminosity for each halo. We use this dataset to confirm that the posterior of our inference is close to the true hyperparameter values used to create the dataset.\n",
    "\n",
    "The hyperparameters that were drawn in this particular case are shown below. The dataset is in the accompanying 'data.csv' file.\n",
    "\n",
    "- $S$: 0.15513828001473409,\n",
    "- $\\alpha_1$: 10.706690446577582,\n",
    "- $\\alpha_2$: 0.37130673484214138,\n",
    "- $\\alpha_3$: 235000000000000.0,\n",
    "- $\\alpha_4$: 1.0006793577014195,"
   ]
  },
  {
   "cell_type": "code",
   "execution_count": 5,
   "metadata": {
    "collapsed": false
   },
   "outputs": [
    {
     "data": {
      "text/html": [
       "<div>\n",
       "<table border=\"1\" class=\"dataframe\">\n",
       "  <thead>\n",
       "    <tr style=\"text-align: right;\">\n",
       "      <th></th>\n",
       "      <th>Unnamed: 0</th>\n",
       "      <th>gal_id</th>\n",
       "      <th>z</th>\n",
       "      <th>ra</th>\n",
       "      <th>dec</th>\n",
       "      <th>lum</th>\n",
       "      <th>lum_obs</th>\n",
       "      <th>mass</th>\n",
       "    </tr>\n",
       "  </thead>\n",
       "  <tbody>\n",
       "    <tr>\n",
       "      <th>0</th>\n",
       "      <td>0</td>\n",
       "      <td>22005657000031</td>\n",
       "      <td>2.07709</td>\n",
       "      <td>-108.623172</td>\n",
       "      <td>-101.696113</td>\n",
       "      <td>13777.036439</td>\n",
       "      <td>13748.793557</td>\n",
       "      <td>1.005246e+11</td>\n",
       "    </tr>\n",
       "    <tr>\n",
       "      <th>1</th>\n",
       "      <td>1</td>\n",
       "      <td>23003396000121</td>\n",
       "      <td>2.00452</td>\n",
       "      <td>-106.131150</td>\n",
       "      <td>-104.863309</td>\n",
       "      <td>8553.898485</td>\n",
       "      <td>8259.738500</td>\n",
       "      <td>9.989612e+10</td>\n",
       "    </tr>\n",
       "    <tr>\n",
       "      <th>2</th>\n",
       "      <td>2</td>\n",
       "      <td>23003339006170</td>\n",
       "      <td>1.99264</td>\n",
       "      <td>-105.764686</td>\n",
       "      <td>-102.987674</td>\n",
       "      <td>18963.368661</td>\n",
       "      <td>18382.304954</td>\n",
       "      <td>3.945599e+11</td>\n",
       "    </tr>\n",
       "    <tr>\n",
       "      <th>3</th>\n",
       "      <td>3</td>\n",
       "      <td>23003385000769</td>\n",
       "      <td>1.99573</td>\n",
       "      <td>-105.287527</td>\n",
       "      <td>-101.737709</td>\n",
       "      <td>11060.429382</td>\n",
       "      <td>11510.690346</td>\n",
       "      <td>1.432479e+11</td>\n",
       "    </tr>\n",
       "    <tr>\n",
       "      <th>4</th>\n",
       "      <td>4</td>\n",
       "      <td>22000106000031</td>\n",
       "      <td>2.04182</td>\n",
       "      <td>-105.776374</td>\n",
       "      <td>-102.895886</td>\n",
       "      <td>11085.593094</td>\n",
       "      <td>12059.614847</td>\n",
       "      <td>1.344521e+11</td>\n",
       "    </tr>\n",
       "  </tbody>\n",
       "</table>\n",
       "</div>"
      ],
      "text/plain": [
       "   Unnamed: 0          gal_id        z          ra         dec           lum  \\\n",
       "0           0  22005657000031  2.07709 -108.623172 -101.696113  13777.036439   \n",
       "1           1  23003396000121  2.00452 -106.131150 -104.863309   8553.898485   \n",
       "2           2  23003339006170  1.99264 -105.764686 -102.987674  18963.368661   \n",
       "3           3  23003385000769  1.99573 -105.287527 -101.737709  11060.429382   \n",
       "4           4  22000106000031  2.04182 -105.776374 -102.895886  11085.593094   \n",
       "\n",
       "        lum_obs          mass  \n",
       "0  13748.793557  1.005246e+11  \n",
       "1   8259.738500  9.989612e+10  \n",
       "2  18382.304954  3.945599e+11  \n",
       "3  11510.690346  1.432479e+11  \n",
       "4  12059.614847  1.344521e+11  "
      ]
     },
     "execution_count": 5,
     "metadata": {},
     "output_type": "execute_result"
    }
   ],
   "source": [
    "import pandas as pd\n",
    "\n",
    "data = pd.read_csv('data.csv')\n",
    "data.head()"
   ]
  },
  {
   "cell_type": "markdown",
   "metadata": {},
   "source": [
    "# Inference\n",
    "\n",
    "TODO: copy all the equations from my previous work with slightly modified notation."
   ]
  },
  {
   "cell_type": "markdown",
   "metadata": {},
   "source": [
    "# Research"
   ]
  },
  {
   "cell_type": "markdown",
   "metadata": {},
   "source": [
    "TODO: elaborate on the three specific questions.\n",
    "- 1) Can we approximate each $(M^i,L^i)$ integral in the likelihood as a 2D Gaussian after some sparse sampling? This would involve sampling, fitting gaussian to samples via regression, and trivially computing the integral of gaussian. How fast is this? How accurate is this? Can it be scaled to more than 2 dimensions.\n",
    "- 2) Can we find the most likely marginal $(M^i,L^i)$ samples? Can we use the most likely marginal samples to quickly approximate entire likelihood integral?\n",
    "- 3) Can we find the maximum likelihood hyperparameter values with variants stochastic gradient descent? How fast is this? How accurate is this? Which algorithms/derivative approximations work best? Can we accomplish this analytically (differentiating sum of gaussians and setting equal to zero). "
   ]
  },
  {
   "cell_type": "markdown",
   "metadata": {},
   "source": [
    "# References\n",
    "TODO: add references."
   ]
  }
 ],
 "metadata": {
  "kernelspec": {
   "display_name": "Python 2",
   "language": "python",
   "name": "python2"
  },
  "language_info": {
   "codemirror_mode": {
    "name": "ipython",
    "version": 2
   },
   "file_extension": ".py",
   "mimetype": "text/x-python",
   "name": "python",
   "nbconvert_exporter": "python",
   "pygments_lexer": "ipython2",
   "version": "2.7.13"
  }
 },
 "nbformat": 4,
 "nbformat_minor": 1
}
